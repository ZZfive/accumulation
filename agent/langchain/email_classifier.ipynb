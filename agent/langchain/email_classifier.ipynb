{
 "cells": [
  {
   "cell_type": "markdown",
   "id": "56f4d072",
   "metadata": {},
   "source": [
    "# 基于LangGraph构架一个简单的邮件分类器"
   ]
  },
  {
   "cell_type": "code",
   "execution_count": 12,
   "id": "953a9a01",
   "metadata": {},
   "outputs": [
    {
     "data": {
      "text/plain": [
       "True"
      ]
     },
     "execution_count": 12,
     "metadata": {},
     "output_type": "execute_result"
    }
   ],
   "source": [
    "import os\n",
    "from typing import TypedDict, List, Dict, Any, Optional\n",
    "\n",
    "from dotenv import load_dotenv\n",
    "from langgraph.graph import StateGraph, START, END\n",
    "from langchain_core.messages import HumanMessage, AIMessage\n",
    "\n",
    "from based_on_openai_model import ChatINTERNLM\n",
    "\n",
    "load_dotenv()"
   ]
  },
  {
   "cell_type": "markdown",
   "id": "41cccb37",
   "metadata": {},
   "source": [
    "## 步骤1：定义状态"
   ]
  },
  {
   "cell_type": "code",
   "execution_count": 22,
   "id": "506e7f93",
   "metadata": {},
   "outputs": [],
   "source": [
    "class EmailState(TypedDict):\n",
    "    # 正在处理的电子邮件\n",
    "    email: Dict[str, Any]  # 包含主题、发件人、正文等。\n",
    "    \n",
    "    # 分析与决策\n",
    "    is_spam: Optional[bool]\n",
    "    spam_reason: Optional[str]\n",
    "    email_category: Optional[str]\n",
    "    \n",
    "    # 响应生成\n",
    "    draft_response: Optional[str]\n",
    "    \n",
    "    # 处理元数据\n",
    "    messages: List[Dict[str, Any]]  # 跟踪与 LLM 的对话以进行分析"
   ]
  },
  {
   "cell_type": "markdown",
   "id": "61482eea",
   "metadata": {},
   "source": [
    "- 注意：状态的定义需要尽可能全面以跟踪所有的重要信息，但也避免不必要的细节使其变得臃肿"
   ]
  },
  {
   "cell_type": "markdown",
   "id": "f1fd1e91",
   "metadata": {},
   "source": [
    "## 步骤2：定义节点"
   ]
  },
  {
   "cell_type": "code",
   "execution_count": 3,
   "id": "b9e4934f",
   "metadata": {},
   "outputs": [],
   "source": [
    "model = ChatINTERNLM(model=\"intern-latest\", temperature=0.0)"
   ]
  },
  {
   "cell_type": "code",
   "execution_count": 4,
   "id": "580d065a",
   "metadata": {},
   "outputs": [
    {
     "data": {
      "text/plain": [
       "AIMessage(content='你好！我是Intern-S1，来自上海人工智能实验室。我是一个智能助手，旨在为你提供知识解答、问题分析以及各种任务的支持。如果你有任何问题或需要帮助，请随时告诉我！', additional_kwargs={'refusal': None}, response_metadata={'token_usage': {'completion_tokens': 149, 'prompt_tokens': 162, 'total_tokens': 311, 'completion_tokens_details': None, 'prompt_tokens_details': None}, 'model_name': 'Intern-S1', 'system_fingerprint': None, 'id': '3khujQGWCx0P_6vEMDXY1YpPQh1Z89ONciSGUKmgFFA=', 'service_tier': None, 'finish_reason': 'stop', 'logprobs': None}, id='run--fddaea29-6a11-41f9-b2a0-ed63496f9128-0', usage_metadata={'input_tokens': 162, 'output_tokens': 149, 'total_tokens': 311, 'input_token_details': {}, 'output_token_details': {}})"
      ]
     },
     "execution_count": 4,
     "metadata": {},
     "output_type": "execute_result"
    }
   ],
   "source": [
    "model.invoke(\"你好，你是谁？\")"
   ]
  },
  {
   "cell_type": "markdown",
   "id": "29889d66",
   "metadata": {},
   "source": [
    "- 先创建构建节点的处理函数"
   ]
  },
  {
   "cell_type": "code",
   "execution_count": 23,
   "id": "e09d4ac4",
   "metadata": {},
   "outputs": [],
   "source": [
    "def read_email(state: EmailState):\n",
    "    r\"\"\"read and log the incoming email\"\"\"\n",
    "    email = state[\"email\"]\n",
    "    \n",
    "    # 在这里可能会做一些初步的预处理\n",
    "    print(f\"Alfred is processing an email from {email['sender']} with subject: {email['subject']}\")\n",
    "    \n",
    "    # 这里不需要更改状态\n",
    "    return {}\n",
    "\n",
    "\n",
    "def classify_email(state: EmailState):\n",
    "    \"\"\"use an LLM to determine if the email is spam or legitimate\"\"\"\n",
    "    email = state[\"email\"]\n",
    "    \n",
    "    # 为 LLM 准备提示词\n",
    "    prompt = f\"\"\"\n",
    "    As Alfred the butler, analyze this email and determine if it is spam or legitimate.\n",
    "    \n",
    "    Email:\n",
    "    From: {email['sender']}\n",
    "    Subject: {email['subject']}\n",
    "    Body: {email['body']}\n",
    "    \n",
    "    First, determine if this email is spam. If it is spam, explain why.\n",
    "    If it is legitimate, categorize it (inquiry, complaint, thank you, etc.).\n",
    "    \"\"\"\n",
    "    \n",
    "    # Call the LLM\n",
    "    messages = [HumanMessage(content=prompt)]\n",
    "    response = model.invoke(messages)\n",
    "    \n",
    "    # 解析响应的简单逻辑（在实际应用中，需要更强大的解析）\n",
    "    response_text = response.content.lower()\n",
    "    is_spam = \"spam\" in response_text and \"not spam\" not in response_text\n",
    "    \n",
    "    # 如果是垃圾邮件，请提取原因\n",
    "    spam_reason = None\n",
    "    if is_spam and \"reason:\" in response_text:\n",
    "        spam_reason = response_text.split(\"reason:\")[1].strip()\n",
    "    \n",
    "    # 确定类别是否合法\n",
    "    email_category = None\n",
    "    if not is_spam:\n",
    "        categories = [\"inquiry\", \"complaint\", \"thank you\", \"request\", \"information\"]\n",
    "        for category in categories:\n",
    "            if category in response_text:\n",
    "                email_category = category\n",
    "                break\n",
    "    \n",
    "    # 更新消息以进行追踪\n",
    "    new_messages = state.get(\"messages\", []) + [\n",
    "        {\"role\": \"user\", \"content\": prompt},\n",
    "        {\"role\": \"assistant\", \"content\": response.content}\n",
    "    ]\n",
    "    \n",
    "    # 返回状态更新\n",
    "    return {\n",
    "        \"is_spam\": is_spam,\n",
    "        \"spam_reason\": spam_reason,\n",
    "        \"email_category\": email_category,\n",
    "        \"messages\": new_messages\n",
    "    }\n",
    "\n",
    "\n",
    "def handle_spam(state: EmailState):\n",
    "    \"\"\"discard spam email with a note\"\"\"\n",
    "    print(f\"Alfred has marked the email as spam. Reason: {state['spam_reason']}\")\n",
    "    print(\"The email has been moved to the spam folder.\")\n",
    "    \n",
    "    # 已处理完这封电子邮件\n",
    "    return {}\n",
    "\n",
    "\n",
    "def draft_response(state: EmailState):\n",
    "    \"\"\"draft a preliminary response for legitimate emails\"\"\"\n",
    "    email = state[\"email\"]\n",
    "    category = state[\"email_category\"] or \"general\"\n",
    "    \n",
    "    # 为 LLM 准备提示词\n",
    "    prompt = f\"\"\"\n",
    "    As Alfred the butler, draft a polite preliminary response to this email.\n",
    "    \n",
    "    Email:\n",
    "    From: {email['sender']}\n",
    "    Subject: {email['subject']}\n",
    "    Body: {email['body']}\n",
    "    \n",
    "    This email has been categorized as: {category}\n",
    "    \n",
    "    Draft a brief, professional response that Mr. Hugg can review and personalize before sending.\n",
    "    \"\"\"\n",
    "    \n",
    "    # Call the LLM\n",
    "    messages = [HumanMessage(content=prompt)]\n",
    "    response = model.invoke(messages)\n",
    "    \n",
    "    # 更新消息以进行追踪\n",
    "    new_messages = state.get(\"messages\", []) + [\n",
    "        {\"role\": \"user\", \"content\": prompt},\n",
    "        {\"role\": \"assistant\", \"content\": response.content}\n",
    "    ]\n",
    "    \n",
    "    # 返回状态更新\n",
    "    return {\n",
    "        \"draft_response\": response.content,\n",
    "        \"messages\": new_messages\n",
    "    }\n",
    "\n",
    "\n",
    "def notify_mr_hugg(state: EmailState):\n",
    "    \"\"\"Alfred notifies Mr. Hugg about the email and presents the draft response\"\"\"\n",
    "    email = state[\"email\"]\n",
    "    \n",
    "    print(\"\\n\" + \"=\"*50)\n",
    "    print(f\"Sir, you've received an email from {email['sender']}.\")\n",
    "    print(f\"Subject: {email['subject']}\")\n",
    "    print(f\"Category: {state['email_category']}\")\n",
    "    print(\"\\nI've prepared a draft response for your review:\")\n",
    "    print(\"-\"*50)\n",
    "    print(state[\"draft_response\"])\n",
    "    print(\"=\"*50 + \"\\n\")\n",
    "    \n",
    "    # 已处理完这封电子邮件\n",
    "    return {}"
   ]
  },
  {
   "cell_type": "markdown",
   "id": "dd5593a4",
   "metadata": {},
   "source": [
    "## 步骤3：定义路由逻辑\n",
    "\n",
    "- 需要定义一个函数来确定邮件分类后采取哪条路径\n",
    "- 注意： LangGraph调用此路由函数来确定在分类节点之后要跟随哪条边；返回值必须与条件边映射中的一个键匹配。"
   ]
  },
  {
   "cell_type": "code",
   "execution_count": 24,
   "id": "95340022",
   "metadata": {},
   "outputs": [],
   "source": [
    "def route_email(state: EmailState) -> str:\n",
    "    \"\"\"Determine the next step based on spam classification\"\"\"\n",
    "    if state[\"is_spam\"]:\n",
    "        return \"spam\"\n",
    "    else:\n",
    "        return \"legitimate\""
   ]
  },
  {
   "cell_type": "markdown",
   "id": "c288b1db",
   "metadata": {},
   "source": [
    "## 步骤4：创建StateGraph并定节点、边"
   ]
  },
  {
   "cell_type": "code",
   "execution_count": 25,
   "id": "92a2f009",
   "metadata": {},
   "outputs": [],
   "source": [
    "# 创建graph\n",
    "email_graph = StateGraph(EmailState)\n"
   ]
  },
  {
   "cell_type": "code",
   "execution_count": 26,
   "id": "c4c36600",
   "metadata": {},
   "outputs": [
    {
     "data": {
      "text/plain": [
       "<langgraph.graph.state.StateGraph at 0x29b25b36170>"
      ]
     },
     "execution_count": 26,
     "metadata": {},
     "output_type": "execute_result"
    }
   ],
   "source": [
    "# 添加nodes，就是将定义的处理函数和一个对应的节点绑定，会给节点设置一个节点名\n",
    "email_graph.add_node(\"read_email\", read_email)\n",
    "email_graph.add_node(\"classify_email\", classify_email)\n",
    "email_graph.add_node(\"handle_spam\", handle_spam)\n",
    "email_graph.add_node(\"draft_response\", draft_response)\n",
    "email_graph.add_node(\"notify_mr_hugg\", notify_mr_hugg)"
   ]
  },
  {
   "cell_type": "code",
   "execution_count": 27,
   "id": "8aa3d566",
   "metadata": {},
   "outputs": [],
   "source": [
    "# 添加edges，即使用使用两个节点名代表对应的节点，在两个节点直接建立有向边\n",
    "email_graph.add_edge(\"read_email\", \"classify_email\")\n",
    "\n",
    "# 从classify_email添加条件分支\n",
    "email_graph.add_conditional_edges(\n",
    "    \"classify_email\",\n",
    "    route_email,\n",
    "    {\n",
    "        \"spam\": \"handle_spam\",\n",
    "        \"legitimate\": \"draft_response\"\n",
    "    }\n",
    ")\n",
    "\n",
    "# 添加最后的edges\n",
    "email_graph.add_edge(\"handle_spam\", END)\n",
    "email_graph.add_edge(\"draft_response\", \"notify_mr_hugg\")\n",
    "email_graph.add_edge(\"notify_mr_hugg\", END)\n",
    "\n",
    "# 添加入口节点\n",
    "email_graph.add_edge(START, \"read_email\")\n",
    "\n",
    "# 编译graph\n",
    "compiled_graph = email_graph.compile()"
   ]
  },
  {
   "cell_type": "markdown",
   "id": "fd28b507",
   "metadata": {},
   "source": [
    "## 步骤5：运行\n",
    "\n",
    "- 以下用一封合法邮件和一封非合法邮件进行测试"
   ]
  },
  {
   "cell_type": "code",
   "execution_count": 28,
   "id": "c4d4a442",
   "metadata": {},
   "outputs": [
    {
     "name": "stdout",
     "output_type": "stream",
     "text": [
      "\n",
      "Processing legitimate email...\n",
      "Alfred is processing an email from john.smith@example.com with subject: Question about your services\n",
      "Alfred has marked the email as spam. Reason: None\n",
      "The email has been moved to the spam folder.\n",
      "\n",
      "Processing spam email...\n",
      "Alfred is processing an email from winner@lottery-intl.com with subject: YOU HAVE WON $5,000,000!!!\n",
      "Alfred has marked the email as spam. Reason: None\n",
      "The email has been moved to the spam folder.\n"
     ]
    }
   ],
   "source": [
    "# 合法电子邮件示例\n",
    "legitimate_email = {\n",
    "    \"sender\": \"john.smith@example.com\",\n",
    "    \"subject\": \"Question about your services\",\n",
    "    \"body\": \"Dear Mr. Hugg, I was referred to you by a colleague and I'm interested in learning more about your consulting services. Could we schedule a call next week? Best regards, John Smith\"\n",
    "}\n",
    "\n",
    "# 垃圾邮件示例\n",
    "spam_email = {\n",
    "    \"sender\": \"winner@lottery-intl.com\",\n",
    "    \"subject\": \"YOU HAVE WON $5,000,000!!!\",\n",
    "    \"body\": \"CONGRATULATIONS! You have been selected as the winner of our international lottery! To claim your $5,000,000 prize, please send us your bank details and a processing fee of $100.\"\n",
    "}\n",
    "\n",
    "# 处理合法电子邮件\n",
    "print(\"\\nProcessing legitimate email...\")\n",
    "legitimate_result = compiled_graph.invoke({\n",
    "    \"email\": legitimate_email,\n",
    "    \"is_spam\": None,\n",
    "    \"spam_reason\": None,\n",
    "    \"email_category\": None,\n",
    "    \"draft_response\": None,\n",
    "    \"messages\": []\n",
    "})\n",
    "\n",
    "# 处理垃圾邮件\n",
    "print(\"\\nProcessing spam email...\")\n",
    "spam_result = compiled_graph.invoke({\n",
    "    \"email\": spam_email,\n",
    "    \"is_spam\": None,\n",
    "    \"spam_reason\": None,\n",
    "    \"email_category\": None,\n",
    "    \"draft_response\": None,\n",
    "    \"messages\": []\n",
    "})"
   ]
  },
  {
   "cell_type": "markdown",
   "id": "e7b6ada0",
   "metadata": {},
   "source": [
    "## 步骤6：使用LangFuse跟踪邮件分类器整个运行过程\n",
    "\n",
    "- 需要先安装langfuse：pip install -q langfuse\n",
    "- 在LangFuse网站创建账号、组织、项目，在项目的设置页面创建apikey"
   ]
  },
  {
   "cell_type": "code",
   "execution_count": 29,
   "id": "97847dde",
   "metadata": {},
   "outputs": [
    {
     "name": "stdout",
     "output_type": "stream",
     "text": [
      "Alfred is processing an email from john.smith@example.com with subject: Question about your services\n",
      "Alfred has marked the email as spam. Reason: None\n",
      "The email has been moved to the spam folder.\n"
     ]
    }
   ],
   "source": [
    "from langfuse.langchain import CallbackHandler\n",
    "\n",
    "# 为LangGraph/Langchain初始化Langfuse CallbackHandler（跟踪）\n",
    "langfuse_handler = CallbackHandler()\n",
    "\n",
    "# 处理合法电子邮件\n",
    "legitimate_result = compiled_graph.invoke(\n",
    "    input={\"email\": legitimate_email, \"is_spam\": None, \"spam_reason\": None, \"email_category\": None, \"draft_response\": None, \"messages\": []},\n",
    "    config={\"callbacks\": [langfuse_handler]}\n",
    ")"
   ]
  },
  {
   "cell_type": "markdown",
   "id": "3849628a",
   "metadata": {},
   "source": [
    "- 可视化工作流程"
   ]
  },
  {
   "cell_type": "code",
   "execution_count": 35,
   "id": "629cb7ed",
   "metadata": {},
   "outputs": [
    {
     "data": {
      "image/png": "[encoded data removed]",
      "text/plain": [
       "<IPython.core.display.Image object>"
      ]
     },
     "metadata": {},
     "output_type": "display_data"
    }
   ],
   "source": [
    "from IPython.display import Image, display\n",
    "import base64\n",
    "\n",
    "image_bytes = compiled_graph.get_graph().draw_mermaid_png()\n",
    "\n",
    "# 直接显示\n",
    "display(Image(image_bytes))"
   ]
  }
 ],
 "metadata": {
  "kernelspec": {
   "display_name": "llms",
   "language": "python",
   "name": "python3"
  },
  "language_info": {
   "codemirror_mode": {
    "name": "ipython",
    "version": 3
   },
   "file_extension": ".py",
   "mimetype": "text/x-python",
   "name": "python",
   "nbconvert_exporter": "python",
   "pygments_lexer": "ipython3",
   "version": "3.10.13"
  }
 },
 "nbformat": 4,
 "nbformat_minor": 5
}
