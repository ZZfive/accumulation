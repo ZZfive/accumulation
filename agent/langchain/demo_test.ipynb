{
 "cells": [
  {
   "cell_type": "code",
   "execution_count": 34,
   "id": "6ad55bc9",
   "metadata": {},
   "outputs": [
    {
     "data": {
      "text/plain": [
       "True"
      ]
     },
     "execution_count": 34,
     "metadata": {},
     "output_type": "execute_result"
    }
   ],
   "source": [
    "import os\n",
    "from typing import Optional\n",
    "\n",
    "from dotenv import load_dotenv\n",
    "from langchain_core.utils.utils import secret_from_env\n",
    "from langchain_openai import ChatOpenAI\n",
    "from pydantic import Field, SecretStr\n",
    "\n",
    "load_dotenv()"
   ]
  },
  {
   "cell_type": "code",
   "execution_count": 42,
   "id": "02b42fdd",
   "metadata": {},
   "outputs": [],
   "source": [
    "class ChatOpenRouter(ChatOpenAI):\n",
    "    openai_api_key: Optional[SecretStr] = Field(\n",
    "        alias=\"api_key\",\n",
    "        default_factory=secret_from_env(\"OPENROUTER_API_KEY\", default=None),\n",
    "    )\n",
    "\n",
    "    @property\n",
    "    def lc_secrets(self) -> dict[str, str]:\n",
    "        return {\"openai_api_key\": \"OPENROUTER_API_KEY\"}\n",
    "\n",
    "    def __init__(self, openai_api_key: Optional[str] = None, **kwargs):\n",
    "        openai_api_key = openai_api_key or os.environ.get(\"OPENROUTER_API_KEY\")\n",
    "        super().__init__(base_url=\"https://openrouter.ai/api/v1\",\n",
    "                         openai_api_key=openai_api_key,\n",
    "                         **kwargs)"
   ]
  },
  {
   "cell_type": "code",
   "execution_count": 43,
   "id": "238d609d",
   "metadata": {},
   "outputs": [],
   "source": [
    "openrouter_model = ChatOpenRouter(\n",
    "    model_name=\"openrouter/sonoma-dusk-alpha\"\n",
    ")"
   ]
  },
  {
   "cell_type": "code",
   "execution_count": 38,
   "id": "fa9c9349",
   "metadata": {},
   "outputs": [
    {
     "data": {
      "text/plain": [
       "\"Hello! I'm Sonoma, built by Oak AI. What's on your mind today?\""
      ]
     },
     "execution_count": 38,
     "metadata": {},
     "output_type": "execute_result"
    }
   ],
   "source": [
    "openrouter_model.invoke(\"Hello, world!\").content"
   ]
  },
  {
   "cell_type": "code",
   "execution_count": 44,
   "id": "99211cdb",
   "metadata": {},
   "outputs": [],
   "source": [
    "res = openrouter_model.invoke(\"Can you speak Chinese?\")"
   ]
  },
  {
   "cell_type": "code",
   "execution_count": 45,
   "id": "cc76f7aa",
   "metadata": {},
   "outputs": [
    {
     "data": {
      "text/plain": [
       "langchain_core.messages.ai.AIMessage"
      ]
     },
     "execution_count": 45,
     "metadata": {},
     "output_type": "execute_result"
    }
   ],
   "source": [
    "type(res)"
   ]
  },
  {
   "cell_type": "code",
   "execution_count": 46,
   "id": "f27a0f21",
   "metadata": {},
   "outputs": [
    {
     "data": {
      "text/plain": [
       "'是的，我可以说中文！我是Sonoma，由Oak AI构建的AI助手，能用中文流利交流。你有什么问题或想聊什么吗？'"
      ]
     },
     "execution_count": 46,
     "metadata": {},
     "output_type": "execute_result"
    }
   ],
   "source": [
    "res.content"
   ]
  },
  {
   "cell_type": "code",
   "execution_count": 47,
   "id": "6b35964e",
   "metadata": {},
   "outputs": [
    {
     "data": {
      "text/plain": [
       "AIMessage(content='是的，我可以说中文！我是Sonoma，由Oak AI构建的AI助手，能用中文流利交流。你有什么问题或想聊什么吗？', additional_kwargs={'refusal': None}, response_metadata={'token_usage': {'completion_tokens': 30, 'prompt_tokens': 34, 'total_tokens': 64, 'completion_tokens_details': {'accepted_prediction_tokens': None, 'audio_tokens': None, 'reasoning_tokens': 0, 'rejected_prediction_tokens': None}, 'prompt_tokens_details': {'audio_tokens': None, 'cached_tokens': 0}}, 'model_name': 'openrouter/sonoma-dusk-alpha', 'system_fingerprint': None, 'id': 'gen-1757597371-Fhy6beyYfoBtbRDOaXwL', 'service_tier': None, 'finish_reason': 'stop', 'logprobs': None}, id='run--8bd621fb-f88d-4681-aa9e-eac011365a92-0', usage_metadata={'input_tokens': 34, 'output_tokens': 30, 'total_tokens': 64, 'input_token_details': {'cache_read': 0}, 'output_token_details': {'reasoning': 0}})"
      ]
     },
     "execution_count": 47,
     "metadata": {},
     "output_type": "execute_result"
    }
   ],
   "source": [
    "res"
   ]
  },
  {
   "cell_type": "code",
   "execution_count": 48,
   "id": "cfcb1bff",
   "metadata": {},
   "outputs": [],
   "source": [
    "from langchain_core.output_parsers import StrOutputParser"
   ]
  },
  {
   "cell_type": "code",
   "execution_count": 49,
   "id": "d1cde8fb",
   "metadata": {},
   "outputs": [
    {
     "data": {
      "text/plain": [
       "'Yes, I can speak Chinese. For example: 你好！我是Sonoma，由Oak AI构建的AI助手。如果你有问题，用中文问我也没问题。'"
      ]
     },
     "execution_count": 49,
     "metadata": {},
     "output_type": "execute_result"
    }
   ],
   "source": [
    "chain = openrouter_model | StrOutputParser()\n",
    "chain.invoke(\"Can you speak Chinese?\")"
   ]
  },
  {
   "cell_type": "code",
   "execution_count": 51,
   "id": "297e05d0",
   "metadata": {},
   "outputs": [
    {
     "name": "stdout",
     "output_type": "stream",
     "text": [
      "The output should be a markdown code snippet formatted in the following schema, including the leading and trailing \"```json\" and \"```\":\n",
      "\n",
      "```json\n",
      "{\n",
      "\t\"name\": string  // 用户的姓名\n",
      "\t\"age\": string  // 用户的年龄\n",
      "}\n",
      "```\n"
     ]
    }
   ],
   "source": [
    "from langchain.prompts import PromptTemplate\n",
    "from langchain.output_parsers import ResponseSchema, StructuredOutputParser\n",
    "\n",
    "response_schemas = [\n",
    "    ResponseSchema(name=\"name\", description=\"用户的姓名\"),\n",
    "    ResponseSchema(name=\"age\", description=\"用户的年龄\")\n",
    "]\n",
    "parser = StructuredOutputParser.from_response_schemas(response_schemas)\n",
    "print(parser.get_format_instructions())"
   ]
  },
  {
   "cell_type": "code",
   "execution_count": 52,
   "id": "881cc143",
   "metadata": {},
   "outputs": [
    {
     "name": "stdout",
     "output_type": "stream",
     "text": [
      "{'name': '张三', 'age': '20'}\n"
     ]
    }
   ],
   "source": [
    "from string import printable\n",
    "\n",
    "\n",
    "prompt = PromptTemplate(\n",
    "    template=\"回答用户的问题，并返回Json格式：{question}\\n{format_instructions}\",\n",
    "    input_variables=[\"question\"],\n",
    "    partial_variables={\"format_instructions\": parser.get_format_instructions()}\n",
    ")\n",
    "chain = prompt | openrouter_model | parser\n",
    "res = chain.invoke({\"question\": \"我的名字叫张三，我今年20岁。\"})\n",
    "\n",
    "print(res)"
   ]
  }
 ],
 "metadata": {
  "kernelspec": {
   "display_name": "py311",
   "language": "python",
   "name": "python3"
  },
  "language_info": {
   "codemirror_mode": {
    "name": "ipython",
    "version": 3
   },
   "file_extension": ".py",
   "mimetype": "text/x-python",
   "name": "python",
   "nbconvert_exporter": "python",
   "pygments_lexer": "ipython3",
   "version": "3.11.10"
  }
 },
 "nbformat": 4,
 "nbformat_minor": 5
}
